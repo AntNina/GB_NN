{
  "nbformat": 4,
  "nbformat_minor": 0,
  "metadata": {
    "colab": {
      "name": "Копия блокнота \"Lesson_2.ipynb\"",
      "provenance": []
    },
    "kernelspec": {
      "name": "python3",
      "display_name": "Python 3"
    },
    "language_info": {
      "name": "python"
    }
  },
  "cells": [
    {
      "cell_type": "code",
      "execution_count": null,
      "metadata": {
        "id": "7xExgEBAYaFU"
      },
      "outputs": [],
      "source": [
        "import numpy as np \n",
        "import pandas as pd \n",
        "\n",
        "from keras.models import Sequential \n",
        "from keras.layers import Dense \n",
        "from tensorflow.keras.utils import to_categorical\n",
        "from keras.datasets import fashion_mnist \n",
        "from keras.metrics import Recall, Precision \n",
        "\n",
        "import matplotlib.pyplot as plt"
      ]
    },
    {
      "cell_type": "code",
      "source": [
        "(train_images,train_labels),(test_images,test_labels)=fashion_mnist.load_data()\n"
      ],
      "metadata": {
        "colab": {
          "base_uri": "https://localhost:8080/"
        },
        "id": "HUS5uEn1Ypg5",
        "outputId": "b46579cc-94fe-42d1-ac83-ac9a7a4cddf9"
      },
      "execution_count": null,
      "outputs": [
        {
          "output_type": "stream",
          "name": "stdout",
          "text": [
            "Downloading data from https://storage.googleapis.com/tensorflow/tf-keras-datasets/train-labels-idx1-ubyte.gz\n",
            "32768/29515 [=================================] - 0s 0us/step\n",
            "40960/29515 [=========================================] - 0s 0us/step\n",
            "Downloading data from https://storage.googleapis.com/tensorflow/tf-keras-datasets/train-images-idx3-ubyte.gz\n",
            "26427392/26421880 [==============================] - 0s 0us/step\n",
            "26435584/26421880 [==============================] - 0s 0us/step\n",
            "Downloading data from https://storage.googleapis.com/tensorflow/tf-keras-datasets/t10k-labels-idx1-ubyte.gz\n",
            "16384/5148 [===============================================================================================] - 0s 0us/step\n",
            "Downloading data from https://storage.googleapis.com/tensorflow/tf-keras-datasets/t10k-images-idx3-ubyte.gz\n",
            "4423680/4422102 [==============================] - 0s 0us/step\n",
            "4431872/4422102 [==============================] - 0s 0us/step\n"
          ]
        }
      ]
    },
    {
      "cell_type": "code",
      "source": [
        "train_images = (train_images / 127) - 1\n",
        "test_images = (test_images / 127) - 1\n"
      ],
      "metadata": {
        "id": "ASq0g-uq0QTu"
      },
      "execution_count": null,
      "outputs": []
    },
    {
      "cell_type": "code",
      "source": [
        "train_images = train_images.reshape((-1, 784))\n",
        "test_images = test_images.reshape((-1, 784))\n"
      ],
      "metadata": {
        "id": "PVmH8ciS0VOI"
      },
      "execution_count": null,
      "outputs": []
    },
    {
      "cell_type": "code",
      "source": [
        "y_t = to_categorical(train_labels)\n",
        "y_tt = to_categorical(test_labels)"
      ],
      "metadata": {
        "id": "kXfKUMqj0blB"
      },
      "execution_count": null,
      "outputs": []
    },
    {
      "cell_type": "code",
      "source": [
        "res_list = []\n",
        "for i in range(0, 12):\n",
        "\n",
        "  result = {}\n",
        "  model_neurons = Sequential([\n",
        "      Dense(2**i, activation='relu', input_shape=(784,)),\n",
        "      Dense(10, activation='softmax')\n",
        "  ])\n",
        "\n",
        "  model_neurons.compile(\n",
        "      optimizer='adam',\n",
        "      loss='categorical_crossentropy',\n",
        "      metrics=['accuracy']\n",
        "  )\n",
        "\n",
        "  model_neurons.fit(\n",
        "      train_images,\n",
        "      to_categorical(train_labels),\n",
        "      epochs=5,\n",
        "      batch_size=32, \n",
        "      validation_split=0.2,\n",
        "      verbose=0\n",
        "  )\n",
        "\n",
        "  result_train = model_neurons.evaluate(train_images, to_categorical(train_labels), verbose=0)\n",
        "  result_test = model_neurons.evaluate(test_images, to_categorical(test_labels), verbose=0)\n",
        "\n",
        "  result['n_neurons'] = 2**i\n",
        "  result['acc_train'] = np.round(result_train[1], 4)\n",
        "  result['acc_test'] = np.round(result_test[1], 4)\n",
        "\n",
        "  res_list.append(result)"
      ],
      "metadata": {
        "id": "Co4NAogg0dQM"
      },
      "execution_count": null,
      "outputs": []
    },
    {
      "cell_type": "code",
      "source": [
        "from pprint import pprint\n",
        "pprint(res_list)"
      ],
      "metadata": {
        "colab": {
          "base_uri": "https://localhost:8080/"
        },
        "id": "nH9M-UG11q8H",
        "outputId": "2a052d1a-f577-4440-bfab-8023fa0e0931"
      },
      "execution_count": null,
      "outputs": [
        {
          "output_type": "stream",
          "name": "stdout",
          "text": [
            "[{'acc_test': 0.3384, 'acc_train': 0.3416, 'n_neurons': 1},\n",
            " {'acc_test': 0.5395, 'acc_train': 0.5427, 'n_neurons': 2},\n",
            " {'acc_test': 0.7791, 'acc_train': 0.7953, 'n_neurons': 4},\n",
            " {'acc_test': 0.83, 'acc_train': 0.8463, 'n_neurons': 8},\n",
            " {'acc_test': 0.8441, 'acc_train': 0.8684, 'n_neurons': 16},\n",
            " {'acc_test': 0.8592, 'acc_train': 0.8803, 'n_neurons': 32},\n",
            " {'acc_test': 0.8618, 'acc_train': 0.8892, 'n_neurons': 64},\n",
            " {'acc_test': 0.8565, 'acc_train': 0.8826, 'n_neurons': 128},\n",
            " {'acc_test': 0.8714, 'acc_train': 0.8959, 'n_neurons': 256},\n",
            " {'acc_test': 0.8728, 'acc_train': 0.8997, 'n_neurons': 512},\n",
            " {'acc_test': 0.8704, 'acc_train': 0.8995, 'n_neurons': 1024},\n",
            " {'acc_test': 0.8743, 'acc_train': 0.9, 'n_neurons': 2048}]\n"
          ]
        }
      ]
    },
    {
      "cell_type": "markdown",
      "source": [
        "С ростом количества нейронов аккуратность сначала точность растёт, затем начинает падать. Пик аккуратности в районе от 256 до 512 нейронов.\n",
        "\n"
      ],
      "metadata": {
        "id": "8Y2k4Oj_1xti"
      }
    },
    {
      "cell_type": "code",
      "source": [
        "model_2l = Sequential([\n",
        "      Dense(256, activation='relu', input_shape=(784,)), \n",
        "      Dense(10, activation='softmax')\n",
        "  ])\n",
        "\n",
        "model_3l = Sequential([\n",
        "      Dense(256, activation='relu', input_shape=(784,)),\n",
        "      Dense(256, activation='relu'),\n",
        "      Dense(10, activation='softmax')\n",
        "  ]) \n",
        "\n",
        "model_5l = Sequential([\n",
        "      Dense(256, activation='relu', input_shape=(784,)),\n",
        "      Dense(256, activation='relu'),\n",
        "      Dense(256, activation='relu'),\n",
        "      Dense(256, activation='relu'),\n",
        "      Dense(10, activation='softmax')\n",
        "  ]) \n",
        "\n",
        "model_10l = Sequential([\n",
        "      Dense(256, activation='relu', input_shape=(784,)),\n",
        "      Dense(256, activation='relu'),\n",
        "      Dense(256, activation='relu'),\n",
        "      Dense(256, activation='relu'),\n",
        "      Dense(256, activation='relu'),\n",
        "      Dense(256, activation='relu'),\n",
        "      Dense(256, activation='relu'),\n",
        "      Dense(256, activation='relu'),\n",
        "      Dense(256, activation='relu'),\n",
        "      Dense(10, activation='softmax')\n",
        "  ])"
      ],
      "metadata": {
        "id": "Xl_I8yjq2Hcw"
      },
      "execution_count": null,
      "outputs": []
    },
    {
      "cell_type": "code",
      "source": [
        "res_list = []\n",
        "l = [2, 3, 5, 10]\n",
        "i = 0\n",
        "for model in (model_2l, model_3l, model_5l, model_10l):\n",
        "\n",
        "  result = {}\n",
        "\n",
        "  model.summary()\n",
        "\n",
        "  model.compile(\n",
        "      optimizer='adam',\n",
        "      loss='categorical_crossentropy',\n",
        "      metrics=['accuracy']\n",
        "  )\n",
        "\n",
        "  model.fit(\n",
        "      train_images,\n",
        "      to_categorical(train_labels),\n",
        "      epochs=5,\n",
        "      batch_size=32, \n",
        "      validation_split=0.2,\n",
        "      verbose=0\n",
        "  )\n",
        "\n",
        "  result_train = model.evaluate(train_images, to_categorical(train_labels), verbose=0)\n",
        "  result_test = model.evaluate(test_images, to_categorical(test_labels), verbose=0)\n",
        "\n",
        "  result['n_layers'] = l[i]\n",
        "  i += 1\n",
        "  result['acc_train'] = np.round(result_train[1], 4)\n",
        "  result['acc_test'] = np.round(result_test[1], 4)\n",
        "\n",
        "  res_list.append(result)"
      ],
      "metadata": {
        "colab": {
          "base_uri": "https://localhost:8080/"
        },
        "id": "m_Fes3WM2Mjs",
        "outputId": "1ea87c6d-b76c-46be-bf42-4e4ce435ea73"
      },
      "execution_count": null,
      "outputs": [
        {
          "output_type": "stream",
          "name": "stdout",
          "text": [
            "Model: \"sequential_12\"\n",
            "_________________________________________________________________\n",
            " Layer (type)                Output Shape              Param #   \n",
            "=================================================================\n",
            " dense_24 (Dense)            (None, 256)               200960    \n",
            "                                                                 \n",
            " dense_25 (Dense)            (None, 10)                2570      \n",
            "                                                                 \n",
            "=================================================================\n",
            "Total params: 203,530\n",
            "Trainable params: 203,530\n",
            "Non-trainable params: 0\n",
            "_________________________________________________________________\n",
            "Model: \"sequential_13\"\n",
            "_________________________________________________________________\n",
            " Layer (type)                Output Shape              Param #   \n",
            "=================================================================\n",
            " dense_26 (Dense)            (None, 256)               200960    \n",
            "                                                                 \n",
            " dense_27 (Dense)            (None, 256)               65792     \n",
            "                                                                 \n",
            " dense_28 (Dense)            (None, 10)                2570      \n",
            "                                                                 \n",
            "=================================================================\n",
            "Total params: 269,322\n",
            "Trainable params: 269,322\n",
            "Non-trainable params: 0\n",
            "_________________________________________________________________\n",
            "Model: \"sequential_14\"\n",
            "_________________________________________________________________\n",
            " Layer (type)                Output Shape              Param #   \n",
            "=================================================================\n",
            " dense_29 (Dense)            (None, 256)               200960    \n",
            "                                                                 \n",
            " dense_30 (Dense)            (None, 256)               65792     \n",
            "                                                                 \n",
            " dense_31 (Dense)            (None, 256)               65792     \n",
            "                                                                 \n",
            " dense_32 (Dense)            (None, 256)               65792     \n",
            "                                                                 \n",
            " dense_33 (Dense)            (None, 10)                2570      \n",
            "                                                                 \n",
            "=================================================================\n",
            "Total params: 400,906\n",
            "Trainable params: 400,906\n",
            "Non-trainable params: 0\n",
            "_________________________________________________________________\n",
            "Model: \"sequential_15\"\n",
            "_________________________________________________________________\n",
            " Layer (type)                Output Shape              Param #   \n",
            "=================================================================\n",
            " dense_34 (Dense)            (None, 256)               200960    \n",
            "                                                                 \n",
            " dense_35 (Dense)            (None, 256)               65792     \n",
            "                                                                 \n",
            " dense_36 (Dense)            (None, 256)               65792     \n",
            "                                                                 \n",
            " dense_37 (Dense)            (None, 256)               65792     \n",
            "                                                                 \n",
            " dense_38 (Dense)            (None, 256)               65792     \n",
            "                                                                 \n",
            " dense_39 (Dense)            (None, 256)               65792     \n",
            "                                                                 \n",
            " dense_40 (Dense)            (None, 256)               65792     \n",
            "                                                                 \n",
            " dense_41 (Dense)            (None, 256)               65792     \n",
            "                                                                 \n",
            " dense_42 (Dense)            (None, 256)               65792     \n",
            "                                                                 \n",
            " dense_43 (Dense)            (None, 10)                2570      \n",
            "                                                                 \n",
            "=================================================================\n",
            "Total params: 729,866\n",
            "Trainable params: 729,866\n",
            "Non-trainable params: 0\n",
            "_________________________________________________________________\n"
          ]
        }
      ]
    },
    {
      "cell_type": "code",
      "source": [
        "from pprint import pprint\n",
        "pprint(res_list)"
      ],
      "metadata": {
        "colab": {
          "base_uri": "https://localhost:8080/"
        },
        "id": "fkAA_IFp2SX1",
        "outputId": "85ffe817-142f-4a15-c920-1e0d6c89b9e2"
      },
      "execution_count": null,
      "outputs": [
        {
          "output_type": "stream",
          "name": "stdout",
          "text": [
            "[{'acc_test': 0.8621, 'acc_train': 0.8879, 'n_layers': 2},\n",
            " {'acc_test': 0.8655, 'acc_train': 0.8917, 'n_layers': 3},\n",
            " {'acc_test': 0.8659, 'acc_train': 0.8938, 'n_layers': 5},\n",
            " {'acc_test': 0.8553, 'acc_train': 0.8734, 'n_layers': 10}]\n"
          ]
        }
      ]
    },
    {
      "cell_type": "markdown",
      "source": [
        "На пяти слоях точность выше, чем на двух, дальше падает."
      ],
      "metadata": {
        "id": "AhWyqUww2Ync"
      }
    },
    {
      "cell_type": "code",
      "source": [
        "model_2l = Sequential([\n",
        "      Dense(256, activation='relu', input_shape=(784,)), \n",
        "      Dense(10, activation='softmax')\n",
        "  ])\n",
        "\n",
        "model_3l = Sequential([\n",
        "      Dense(222, activation='relu', input_shape=(784,)),\n",
        "      Dense(222, activation='relu'),\n",
        "      Dense(10, activation='softmax')\n",
        "  ]) \n",
        "\n",
        "model_5l = Sequential([\n",
        "      Dense(164, activation='relu', input_shape=(784,)),\n",
        "      Dense(164, activation='relu'),\n",
        "      Dense(164, activation='relu'),\n",
        "      Dense(164, activation='relu'),\n",
        "      Dense(10, activation='softmax')\n",
        "  ]) \n",
        "\n",
        "model_10l = Sequential([\n",
        "      Dense(128, activation='relu', input_shape=(784,)),\n",
        "      Dense(128, activation='relu'),\n",
        "      Dense(128, activation='relu'),\n",
        "      Dense(128, activation='relu'),\n",
        "      Dense(128, activation='relu'),\n",
        "      Dense(128, activation='relu'),\n",
        "      Dense(128, activation='relu'),\n",
        "      Dense(128, activation='relu'),\n",
        "      Dense(128, activation='relu'),\n",
        "      Dense(10, activation='softmax')\n",
        "  ])"
      ],
      "metadata": {
        "id": "ElmCO8BJ2Zbl"
      },
      "execution_count": null,
      "outputs": []
    },
    {
      "cell_type": "code",
      "source": [
        "res_list = []\n",
        "l = [2, 3, 5, 10]\n",
        "i = 0\n",
        "for model in (model_2l, model_3l, model_5l, model_10l):\n",
        "\n",
        "  result = {}\n",
        "\n",
        "  model.summary()\n",
        "\n",
        "  model.compile(\n",
        "      optimizer='adam',\n",
        "      loss='categorical_crossentropy',\n",
        "      metrics=['accuracy']\n",
        "  )\n",
        "\n",
        "  model.fit(\n",
        "      train_images,\n",
        "      to_categorical(train_labels),\n",
        "      epochs=5,\n",
        "      batch_size=32, \n",
        "      validation_split=0.2,\n",
        "      verbose=0\n",
        "  )\n",
        "\n",
        "  result_train = model.evaluate(train_images, to_categorical(train_labels), verbose=0)\n",
        "  result_test = model.evaluate(test_images, to_categorical(test_labels), verbose=0)\n",
        "\n",
        "  result['n_layers'] = l[i]\n",
        "  i += 1\n",
        "  result['acc_train'] = np.round(result_train[1], 4)\n",
        "  result['acc_test'] = np.round(result_test[1], 4)\n",
        "\n",
        "  res_list.append(result)"
      ],
      "metadata": {
        "colab": {
          "base_uri": "https://localhost:8080/"
        },
        "id": "YKfcxOn32n2H",
        "outputId": "979fa8a0-3b21-481b-9bf7-589e4a99fc93"
      },
      "execution_count": null,
      "outputs": [
        {
          "output_type": "stream",
          "name": "stdout",
          "text": [
            "Model: \"sequential_16\"\n",
            "_________________________________________________________________\n",
            " Layer (type)                Output Shape              Param #   \n",
            "=================================================================\n",
            " dense_44 (Dense)            (None, 256)               200960    \n",
            "                                                                 \n",
            " dense_45 (Dense)            (None, 10)                2570      \n",
            "                                                                 \n",
            "=================================================================\n",
            "Total params: 203,530\n",
            "Trainable params: 203,530\n",
            "Non-trainable params: 0\n",
            "_________________________________________________________________\n",
            "Model: \"sequential_17\"\n",
            "_________________________________________________________________\n",
            " Layer (type)                Output Shape              Param #   \n",
            "=================================================================\n",
            " dense_46 (Dense)            (None, 222)               174270    \n",
            "                                                                 \n",
            " dense_47 (Dense)            (None, 222)               49506     \n",
            "                                                                 \n",
            " dense_48 (Dense)            (None, 10)                2230      \n",
            "                                                                 \n",
            "=================================================================\n",
            "Total params: 226,006\n",
            "Trainable params: 226,006\n",
            "Non-trainable params: 0\n",
            "_________________________________________________________________\n",
            "Model: \"sequential_18\"\n",
            "_________________________________________________________________\n",
            " Layer (type)                Output Shape              Param #   \n",
            "=================================================================\n",
            " dense_49 (Dense)            (None, 164)               128740    \n",
            "                                                                 \n",
            " dense_50 (Dense)            (None, 164)               27060     \n",
            "                                                                 \n",
            " dense_51 (Dense)            (None, 164)               27060     \n",
            "                                                                 \n",
            " dense_52 (Dense)            (None, 164)               27060     \n",
            "                                                                 \n",
            " dense_53 (Dense)            (None, 10)                1650      \n",
            "                                                                 \n",
            "=================================================================\n",
            "Total params: 211,570\n",
            "Trainable params: 211,570\n",
            "Non-trainable params: 0\n",
            "_________________________________________________________________\n",
            "Model: \"sequential_19\"\n",
            "_________________________________________________________________\n",
            " Layer (type)                Output Shape              Param #   \n",
            "=================================================================\n",
            " dense_54 (Dense)            (None, 128)               100480    \n",
            "                                                                 \n",
            " dense_55 (Dense)            (None, 128)               16512     \n",
            "                                                                 \n",
            " dense_56 (Dense)            (None, 128)               16512     \n",
            "                                                                 \n",
            " dense_57 (Dense)            (None, 128)               16512     \n",
            "                                                                 \n",
            " dense_58 (Dense)            (None, 128)               16512     \n",
            "                                                                 \n",
            " dense_59 (Dense)            (None, 128)               16512     \n",
            "                                                                 \n",
            " dense_60 (Dense)            (None, 128)               16512     \n",
            "                                                                 \n",
            " dense_61 (Dense)            (None, 128)               16512     \n",
            "                                                                 \n",
            " dense_62 (Dense)            (None, 128)               16512     \n",
            "                                                                 \n",
            " dense_63 (Dense)            (None, 10)                1290      \n",
            "                                                                 \n",
            "=================================================================\n",
            "Total params: 233,866\n",
            "Trainable params: 233,866\n",
            "Non-trainable params: 0\n",
            "_________________________________________________________________\n"
          ]
        }
      ]
    },
    {
      "cell_type": "code",
      "source": [
        "from pprint import pprint\n",
        "pprint(res_list)"
      ],
      "metadata": {
        "colab": {
          "base_uri": "https://localhost:8080/"
        },
        "id": "L4paK54B2rIJ",
        "outputId": "40585593-ba24-4472-b64d-0919e4ae488d"
      },
      "execution_count": null,
      "outputs": [
        {
          "output_type": "stream",
          "name": "stdout",
          "text": [
            "[{'acc_test': 0.8716, 'acc_train': 0.8939, 'n_layers': 2},\n",
            " {'acc_test': 0.8668, 'acc_train': 0.8933, 'n_layers': 3},\n",
            " {'acc_test': 0.8703, 'acc_train': 0.8932, 'n_layers': 5},\n",
            " {'acc_test': 0.8609, 'acc_train': 0.8794, 'n_layers': 10}]\n"
          ]
        }
      ]
    },
    {
      "cell_type": "markdown",
      "source": [
        "При одинаковои числе параметров точность быстро падает."
      ],
      "metadata": {
        "id": "IahjSPi82ups"
      }
    },
    {
      "cell_type": "code",
      "source": [
        "res_list = []\n",
        "\n",
        "for opt in ['SGD', 'Adam', 'RMSProp']:\n",
        "\n",
        "  result = {}\n",
        "\n",
        "  model_opti = Sequential([\n",
        "      Dense(256, activation='relu', input_shape=(784,)), \n",
        "      Dense(10, activation='softmax')\n",
        "  ])\n",
        "\n",
        "  model_opti.compile(\n",
        "      optimizer=opt,\n",
        "      loss='categorical_crossentropy',\n",
        "      metrics=['accuracy']\n",
        "  )\n",
        "\n",
        "  model_opti.fit(\n",
        "      train_images,\n",
        "      to_categorical(train_labels),\n",
        "      epochs=5,\n",
        "      batch_size=32, \n",
        "      validation_split=0.2,\n",
        "      verbose=0\n",
        "  )\n",
        "\n",
        "  result_train = model_opti.evaluate(train_images, to_categorical(train_labels), verbose=0)\n",
        "  result_test = model_opti.evaluate(test_images, to_categorical(test_labels), verbose=0)\n",
        "\n",
        "  result['opt'] = opt\n",
        "  i += 1\n",
        "  result['acc_train'] = np.round(result_train[1], 4)\n",
        "  result['acc_test'] = np.round(result_test[1], 4)\n",
        "\n",
        "  res_list.append(result)"
      ],
      "metadata": {
        "id": "7G3wGLGM2xUA"
      },
      "execution_count": null,
      "outputs": []
    },
    {
      "cell_type": "code",
      "source": [
        "from pprint import pprint\n",
        "pprint(res_list)"
      ],
      "metadata": {
        "colab": {
          "base_uri": "https://localhost:8080/"
        },
        "id": "CaIvqoGC20wD",
        "outputId": "4344862c-2336-4f31-93bc-918d52452aa4"
      },
      "execution_count": null,
      "outputs": [
        {
          "output_type": "stream",
          "name": "stdout",
          "text": [
            "[{'acc_test': 0.8484, 'acc_train': 0.8642, 'opt': 'SGD'},\n",
            " {'acc_test': 0.8686, 'acc_train': 0.895, 'opt': 'Adam'},\n",
            " {'acc_test': 0.8578, 'acc_train': 0.8864, 'opt': 'RMSProp'}]\n"
          ]
        }
      ]
    },
    {
      "cell_type": "markdown",
      "source": [
        "Adam справляет чуть лучше RMSProp"
      ],
      "metadata": {
        "id": "xtIVFdu423no"
      }
    },
    {
      "cell_type": "markdown",
      "source": [
        "На кчество влияет оптимальное число слоёв и нейронов. Функции активации тоже."
      ],
      "metadata": {
        "id": "MBm3Tz42288h"
      }
    },
    {
      "cell_type": "code",
      "source": [
        "model_opti = Sequential([\n",
        "      Dense(256, activation='relu', input_shape=(784,)), \n",
        "      Dense(10, activation='softmax')\n",
        "  ])\n",
        "\n",
        "model_opti.compile(\n",
        "      optimizer=opt,\n",
        "      loss='categorical_crossentropy',\n",
        "      metrics=['accuracy']\n",
        "  )\n",
        "\n",
        "model_opti.fit(\n",
        "      train_images,\n",
        "      to_categorical(train_labels),\n",
        "      epochs=5,\n",
        "      batch_size=32, \n",
        "      validation_split=0.2,\n",
        "      verbose=0\n",
        "  )"
      ],
      "metadata": {
        "colab": {
          "base_uri": "https://localhost:8080/"
        },
        "id": "GLSW2nV326U6",
        "outputId": "9bae3c72-e2e5-4d0f-d062-8bb8aca496db"
      },
      "execution_count": null,
      "outputs": [
        {
          "output_type": "execute_result",
          "data": {
            "text/plain": [
              "<keras.callbacks.History at 0x7fb25c3f71d0>"
            ]
          },
          "metadata": {},
          "execution_count": 16
        }
      ]
    },
    {
      "cell_type": "code",
      "source": [
        "predictions = model_2l.predict(test_images)\n",
        "\n",
        "# Print our model's predictions.\n",
        "test_labels_predict = np.argmax(predictions, axis=1)\n"
      ],
      "metadata": {
        "id": "BSbbSepb4gz-"
      },
      "execution_count": null,
      "outputs": []
    },
    {
      "cell_type": "code",
      "source": [
        "labels = np.unique(train_labels)\n",
        "df = pd.DataFrame(columns=['recall', 'precision'], index=range(10))\n",
        "\n",
        "for i in labels:\n",
        "  recall = Recall()\n",
        "  recall.update_state(y_true=(test_labels == i), \n",
        "                      y_pred=(test_labels_predict == i))\n",
        "  df.loc[i, 'recall'] = recall.result().numpy()\n",
        "\n",
        "  precision = Precision()\n",
        "  precision.update_state(y_true=(test_labels == i), \n",
        "                         y_pred=(test_labels_predict == i))\n",
        "  df.loc[i, 'precision'] = precision.result().numpy()\n",
        "\n",
        "  df.loc[i, 'F'] = 2*recall.result().numpy()*precision.result().numpy()/(precision.result().numpy()+recall.result().numpy())\n",
        "\n",
        "df.index = ['T-shirt/top', 'Trouser', 'Pullover', 'Dress', 'Coat', 'Sandal', 'Shirt', 'Sneaker', 'Bag', 'Ankle boot']\n",
        "\n",
        "df"
      ],
      "metadata": {
        "colab": {
          "base_uri": "https://localhost:8080/",
          "height": 363
        },
        "id": "RwXLkR-o4h6L",
        "outputId": "49d0d624-20da-46de-d2e4-f275fcc72e80"
      },
      "execution_count": null,
      "outputs": [
        {
          "output_type": "execute_result",
          "data": {
            "text/html": [
              "\n",
              "  <div id=\"df-742f3e2f-2240-4c4b-a0e6-6860f5a8696e\">\n",
              "    <div class=\"colab-df-container\">\n",
              "      <div>\n",
              "<style scoped>\n",
              "    .dataframe tbody tr th:only-of-type {\n",
              "        vertical-align: middle;\n",
              "    }\n",
              "\n",
              "    .dataframe tbody tr th {\n",
              "        vertical-align: top;\n",
              "    }\n",
              "\n",
              "    .dataframe thead th {\n",
              "        text-align: right;\n",
              "    }\n",
              "</style>\n",
              "<table border=\"1\" class=\"dataframe\">\n",
              "  <thead>\n",
              "    <tr style=\"text-align: right;\">\n",
              "      <th></th>\n",
              "      <th>recall</th>\n",
              "      <th>precision</th>\n",
              "      <th>F</th>\n",
              "    </tr>\n",
              "  </thead>\n",
              "  <tbody>\n",
              "    <tr>\n",
              "      <th>T-shirt/top</th>\n",
              "      <td>0.794</td>\n",
              "      <td>0.840212</td>\n",
              "      <td>0.816452</td>\n",
              "    </tr>\n",
              "    <tr>\n",
              "      <th>Trouser</th>\n",
              "      <td>0.958</td>\n",
              "      <td>0.993776</td>\n",
              "      <td>0.975560</td>\n",
              "    </tr>\n",
              "    <tr>\n",
              "      <th>Pullover</th>\n",
              "      <td>0.837</td>\n",
              "      <td>0.755415</td>\n",
              "      <td>0.794118</td>\n",
              "    </tr>\n",
              "    <tr>\n",
              "      <th>Dress</th>\n",
              "      <td>0.924</td>\n",
              "      <td>0.811238</td>\n",
              "      <td>0.863955</td>\n",
              "    </tr>\n",
              "    <tr>\n",
              "      <th>Coat</th>\n",
              "      <td>0.793</td>\n",
              "      <td>0.805894</td>\n",
              "      <td>0.799395</td>\n",
              "    </tr>\n",
              "    <tr>\n",
              "      <th>Sandal</th>\n",
              "      <td>0.965</td>\n",
              "      <td>0.923445</td>\n",
              "      <td>0.943765</td>\n",
              "    </tr>\n",
              "    <tr>\n",
              "      <th>Shirt</th>\n",
              "      <td>0.637</td>\n",
              "      <td>0.733871</td>\n",
              "      <td>0.682013</td>\n",
              "    </tr>\n",
              "    <tr>\n",
              "      <th>Sneaker</th>\n",
              "      <td>0.905</td>\n",
              "      <td>0.948637</td>\n",
              "      <td>0.926305</td>\n",
              "    </tr>\n",
              "    <tr>\n",
              "      <th>Bag</th>\n",
              "      <td>0.935</td>\n",
              "      <td>0.982143</td>\n",
              "      <td>0.957992</td>\n",
              "    </tr>\n",
              "    <tr>\n",
              "      <th>Ankle boot</th>\n",
              "      <td>0.968</td>\n",
              "      <td>0.929875</td>\n",
              "      <td>0.948555</td>\n",
              "    </tr>\n",
              "  </tbody>\n",
              "</table>\n",
              "</div>\n",
              "      <button class=\"colab-df-convert\" onclick=\"convertToInteractive('df-742f3e2f-2240-4c4b-a0e6-6860f5a8696e')\"\n",
              "              title=\"Convert this dataframe to an interactive table.\"\n",
              "              style=\"display:none;\">\n",
              "        \n",
              "  <svg xmlns=\"http://www.w3.org/2000/svg\" height=\"24px\"viewBox=\"0 0 24 24\"\n",
              "       width=\"24px\">\n",
              "    <path d=\"M0 0h24v24H0V0z\" fill=\"none\"/>\n",
              "    <path d=\"M18.56 5.44l.94 2.06.94-2.06 2.06-.94-2.06-.94-.94-2.06-.94 2.06-2.06.94zm-11 1L8.5 8.5l.94-2.06 2.06-.94-2.06-.94L8.5 2.5l-.94 2.06-2.06.94zm10 10l.94 2.06.94-2.06 2.06-.94-2.06-.94-.94-2.06-.94 2.06-2.06.94z\"/><path d=\"M17.41 7.96l-1.37-1.37c-.4-.4-.92-.59-1.43-.59-.52 0-1.04.2-1.43.59L10.3 9.45l-7.72 7.72c-.78.78-.78 2.05 0 2.83L4 21.41c.39.39.9.59 1.41.59.51 0 1.02-.2 1.41-.59l7.78-7.78 2.81-2.81c.8-.78.8-2.07 0-2.86zM5.41 20L4 18.59l7.72-7.72 1.47 1.35L5.41 20z\"/>\n",
              "  </svg>\n",
              "      </button>\n",
              "      \n",
              "  <style>\n",
              "    .colab-df-container {\n",
              "      display:flex;\n",
              "      flex-wrap:wrap;\n",
              "      gap: 12px;\n",
              "    }\n",
              "\n",
              "    .colab-df-convert {\n",
              "      background-color: #E8F0FE;\n",
              "      border: none;\n",
              "      border-radius: 50%;\n",
              "      cursor: pointer;\n",
              "      display: none;\n",
              "      fill: #1967D2;\n",
              "      height: 32px;\n",
              "      padding: 0 0 0 0;\n",
              "      width: 32px;\n",
              "    }\n",
              "\n",
              "    .colab-df-convert:hover {\n",
              "      background-color: #E2EBFA;\n",
              "      box-shadow: 0px 1px 2px rgba(60, 64, 67, 0.3), 0px 1px 3px 1px rgba(60, 64, 67, 0.15);\n",
              "      fill: #174EA6;\n",
              "    }\n",
              "\n",
              "    [theme=dark] .colab-df-convert {\n",
              "      background-color: #3B4455;\n",
              "      fill: #D2E3FC;\n",
              "    }\n",
              "\n",
              "    [theme=dark] .colab-df-convert:hover {\n",
              "      background-color: #434B5C;\n",
              "      box-shadow: 0px 1px 3px 1px rgba(0, 0, 0, 0.15);\n",
              "      filter: drop-shadow(0px 1px 2px rgba(0, 0, 0, 0.3));\n",
              "      fill: #FFFFFF;\n",
              "    }\n",
              "  </style>\n",
              "\n",
              "      <script>\n",
              "        const buttonEl =\n",
              "          document.querySelector('#df-742f3e2f-2240-4c4b-a0e6-6860f5a8696e button.colab-df-convert');\n",
              "        buttonEl.style.display =\n",
              "          google.colab.kernel.accessAllowed ? 'block' : 'none';\n",
              "\n",
              "        async function convertToInteractive(key) {\n",
              "          const element = document.querySelector('#df-742f3e2f-2240-4c4b-a0e6-6860f5a8696e');\n",
              "          const dataTable =\n",
              "            await google.colab.kernel.invokeFunction('convertToInteractive',\n",
              "                                                     [key], {});\n",
              "          if (!dataTable) return;\n",
              "\n",
              "          const docLinkHtml = 'Like what you see? Visit the ' +\n",
              "            '<a target=\"_blank\" href=https://colab.research.google.com/notebooks/data_table.ipynb>data table notebook</a>'\n",
              "            + ' to learn more about interactive tables.';\n",
              "          element.innerHTML = '';\n",
              "          dataTable['output_type'] = 'display_data';\n",
              "          await google.colab.output.renderOutput(dataTable, element);\n",
              "          const docLink = document.createElement('div');\n",
              "          docLink.innerHTML = docLinkHtml;\n",
              "          element.appendChild(docLink);\n",
              "        }\n",
              "      </script>\n",
              "    </div>\n",
              "  </div>\n",
              "  "
            ],
            "text/plain": [
              "            recall precision         F\n",
              "T-shirt/top  0.794  0.840212  0.816452\n",
              "Trouser      0.958  0.993776  0.975560\n",
              "Pullover     0.837  0.755415  0.794118\n",
              "Dress        0.924  0.811238  0.863955\n",
              "Coat         0.793  0.805894  0.799395\n",
              "Sandal       0.965  0.923445  0.943765\n",
              "Shirt        0.637  0.733871  0.682013\n",
              "Sneaker      0.905  0.948637  0.926305\n",
              "Bag          0.935  0.982143  0.957992\n",
              "Ankle boot   0.968  0.929875  0.948555"
            ]
          },
          "metadata": {},
          "execution_count": 18
        }
      ]
    },
    {
      "cell_type": "code",
      "source": [
        ""
      ],
      "metadata": {
        "id": "BEx7zJqn4l9U"
      },
      "execution_count": null,
      "outputs": []
    }
  ]
}