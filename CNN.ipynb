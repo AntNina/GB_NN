{
  "nbformat": 4,
  "nbformat_minor": 0,
  "metadata": {
    "colab": {
      "name": "Lesson_4.ipynb",
      "provenance": []
    },
    "kernelspec": {
      "name": "python3",
      "display_name": "Python 3"
    },
    "language_info": {
      "name": "python"
    }
  },
  "cells": [
    {
      "cell_type": "code",
      "execution_count": null,
      "metadata": {
        "id": "UvP-Oe4DzkNN"
      },
      "outputs": [],
      "source": [
        "from tensorflow.keras.models import Sequential\n",
        "from tensorflow.keras import models, layers\n",
        "import tensorflow.keras as keras\n",
        "from tensorflow.keras.datasets import fashion_mnist\n",
        "from tensorflow.keras.utils import to_categorical\n"
      ]
    },
    {
      "cell_type": "code",
      "source": [
        "# загрузка тренировочных и тестовых данных\n",
        "(x_train, y_train), (x_test, y_test) = fashion_mnist.load_data()\n",
        "\n",
        "# конвертация чисел из uint8 в float32\n",
        "x_train = x_train.astype('float32')\n",
        "x_test = x_test.astype('float32')\n",
        "\n",
        "# нормализация данных [0, 1]\n",
        "x_train /= 255 \n",
        "x_test /= 255 \n",
        "\n",
        "# трансформация лейблов в one-hot encoding\n",
        "y_train = to_categorical(y_train, 10) \n",
        "y_test = to_categorical(y_test, 10) \n",
        "\n",
        "# изменение размерности массива в 4D массив\n",
        "x_train = x_train.reshape(x_train.shape[0], 28,28,1)\n",
        "x_test = x_test.reshape(x_test.shape[0], 28,28,1)"
      ],
      "metadata": {
        "colab": {
          "base_uri": "https://localhost:8080/"
        },
        "id": "uJb1f9shzqcK",
        "outputId": "96c2363e-ecd7-4fac-9801-d3f206d39b0a"
      },
      "execution_count": null,
      "outputs": [
        {
          "output_type": "stream",
          "name": "stdout",
          "text": [
            "Downloading data from https://storage.googleapis.com/tensorflow/tf-keras-datasets/train-labels-idx1-ubyte.gz\n",
            "32768/29515 [=================================] - 0s 0us/step\n",
            "40960/29515 [=========================================] - 0s 0us/step\n",
            "Downloading data from https://storage.googleapis.com/tensorflow/tf-keras-datasets/train-images-idx3-ubyte.gz\n",
            "26427392/26421880 [==============================] - 1s 0us/step\n",
            "26435584/26421880 [==============================] - 1s 0us/step\n",
            "Downloading data from https://storage.googleapis.com/tensorflow/tf-keras-datasets/t10k-labels-idx1-ubyte.gz\n",
            "16384/5148 [===============================================================================================] - 0s 0us/step\n",
            "Downloading data from https://storage.googleapis.com/tensorflow/tf-keras-datasets/t10k-images-idx3-ubyte.gz\n",
            "4423680/4422102 [==============================] - 0s 0us/step\n",
            "4431872/4422102 [==============================] - 0s 0us/step\n"
          ]
        }
      ]
    },
    {
      "cell_type": "code",
      "source": [
        "from tensorflow.keras.models import Model \n",
        "# инициализация  модели\n",
        "input1= layers.Input(shape=(28,28,1))\n",
        "# первый сверточный слой\n",
        "x1 = layers.Conv2D(6, kernel_size=(7, 7), strides=(1, 1), activation='tanh',  padding=\"same\")(input1)\n",
        "\n",
        "# второй пуллинговый слой\n",
        "x2 = layers.AveragePooling2D(pool_size=(2, 2), strides=(2, 2), padding='valid')(x1)\n",
        "\n",
        "# третий сверточный слой\n",
        "x3 = layers.Conv2D(16, kernel_size=(7, 7), strides=(1, 1), activation='tanh', padding='valid')(x2)\n",
        "\n",
        "# четвертый пуллинговый слой\n",
        "x4 = layers.AveragePooling2D(pool_size=(2, 2), strides=(2, 2), padding='valid')(x3)\n",
        "\n",
        "# пятый  слой\n",
        "x5 = layers.Conv2D(120, kernel_size=(3, 3), strides=(1, 1), activation='tanh', padding='valid')(x4)\n",
        "\n",
        "# сглаживание CNN выхода чтобы можно было его присоединить к полносвязногому слою\n",
        "x12 = layers.Flatten()(x5)\n",
        "\n",
        "# шестой полносвязный слой\n",
        "x13 = layers.Dense(84, activation='tanh')(x12)\n",
        "\n",
        "# выходной слой с функцией активации softmax\n",
        "out_x = layers.Dense(10, activation='softmax')(x13)\n",
        "\n",
        "\n",
        "# Соберем полную модель сети от входа к выходу \n",
        "model1 = Model(inputs = input1, outputs = out_x) \n",
        "# сделаем несколько промежуточных выходов (через них посмотрим , что происходит в сети) \n",
        "model3 = Model(inputs = input1, outputs = x3)\n",
        "model5 = Model(inputs = input1, outputs = x5)\n",
        "# компилияция модели\n",
        "model1.compile(loss=keras.losses.categorical_crossentropy, optimizer='SGD', metrics=[\"accuracy\"])\n",
        "\n",
        "# Обучаем модель\n",
        "hist = model1.fit(x=x_train,y=y_train, epochs=5, batch_size=128, validation_data=(x_test, y_test), verbose=1)\n",
        "\n",
        "test_score = model1.evaluate(x_test, y_test)\n",
        "print(\"Test loss {:.4f}, accuracy {:.2f}%\".format(test_score[0], test_score[1] * 100))"
      ],
      "metadata": {
        "colab": {
          "base_uri": "https://localhost:8080/"
        },
        "id": "2_wyxL6QzuZL",
        "outputId": "814430a3-b774-40cf-8f16-8fc6ce8c0ad0"
      },
      "execution_count": null,
      "outputs": [
        {
          "output_type": "stream",
          "name": "stdout",
          "text": [
            "Epoch 1/5\n",
            "469/469 [==============================] - 46s 96ms/step - loss: 1.3145 - accuracy: 0.5788 - val_loss: 0.8646 - val_accuracy: 0.6941\n",
            "Epoch 2/5\n",
            "469/469 [==============================] - 44s 95ms/step - loss: 0.7595 - accuracy: 0.7233 - val_loss: 0.7218 - val_accuracy: 0.7305\n",
            "Epoch 3/5\n",
            "469/469 [==============================] - 44s 95ms/step - loss: 0.6697 - accuracy: 0.7493 - val_loss: 0.6680 - val_accuracy: 0.7531\n",
            "Epoch 4/5\n",
            "469/469 [==============================] - 44s 94ms/step - loss: 0.6229 - accuracy: 0.7687 - val_loss: 0.6282 - val_accuracy: 0.7673\n",
            "Epoch 5/5\n",
            "469/469 [==============================] - 44s 94ms/step - loss: 0.5879 - accuracy: 0.7856 - val_loss: 0.6046 - val_accuracy: 0.7683\n",
            "313/313 [==============================] - 5s 16ms/step - loss: 0.6046 - accuracy: 0.7683\n",
            "Test loss 0.6046, accuracy 76.83%\n"
          ]
        }
      ]
    },
    {
      "cell_type": "markdown",
      "source": [
        "accurcy - 82.8 для базового варианта\n",
        "\n",
        "ядро - 3, +1 набор слоёв - 78.73\n",
        "\n",
        "для всех падднигов 1 на 1 - точность 83.05\n",
        "\n",
        "добавляем ещё слои - 82.37\n",
        "\n",
        "сократили слои и расширили ядро до 7 на 7 - 85.02 (3 свёрточных, страйд - 1)\n",
        "\n",
        "прошлый вариант - страйд 2 - 76.83\n",
        "\n",
        "\n",
        "Вообщем разумно делать неглубокую сеть с большими ядрами."
      ],
      "metadata": {
        "id": "Cu_znLtUz1zg"
      }
    }
  ]
}